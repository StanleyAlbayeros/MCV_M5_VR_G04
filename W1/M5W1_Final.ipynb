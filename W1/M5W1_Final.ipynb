{
  "nbformat": 4,
  "nbformat_minor": 0,
  "metadata": {
    "colab": {
      "name": "M5_Week01_AZNet.ipynb",
      "provenance": [],
      "collapsed_sections": [],
      "machine_shape": "hm"
    },
    "kernelspec": {
      "name": "python3",
      "display_name": "Python 3",
      "language": "python"
    },
    "accelerator": "GPU"
  },
  "cells": [
    {
      "source": [
        "from google.colab import drive\n",
        "drive.mount('/content/drive')"
      ],
      "cell_type": "markdown",
      "metadata": {
        "id": "EemsuZtybd_F",
        "colab": {
          "base_uri": "https://localhost:8080/"
        },
        "outputId": "f419d414-4ff5-45d4-fed5-b5927045ae96"
      }
    },
    {
      "cell_type": "code",
      "metadata": {
        "id": "RPRim1xa7S-0",
        "colab": {
          "base_uri": "https://localhost:8080/"
        },
        "outputId": "4416c6a0-6f43-4f5b-abcc-c94a201d5a77"
      },
      "source": [
        "# Load the TensorBoard notebook extension\n",
        "%load_ext tensorboard"
      ],
      "execution_count": 1,
      "outputs": []
    },
    {
      "cell_type": "code",
      "metadata": {
        "id": "-BrIMwNdj-i7"
      },
      "source": [
        "#%tensorflow_version 2.x\n",
        "#import tensorflow as tf\n",
        "#device_name = tf.test.gpu_device_name()\n",
        "#if device_name != '/device:GPU:0':\n",
        "#  raise SystemError('GPU device not found')\n",
        "#print('Found GPU at: {}'.format(device_name))\n",
        "\n",
        "#https://colab.research.google.com/notebooks/gpu.ipynb#scrollTo=sXnDmXR7RDr2"
      ],
      "execution_count": 2,
      "outputs": []
    },
    {
      "cell_type": "markdown",
      "metadata": {
        "id": "rC3j30GALmsE"
      },
      "source": [
        "# **MyAZNet**  \n"
      ]
    },
    {
      "cell_type": "markdown",
      "metadata": {
        "id": "YFlVtblJQidu"
      },
      "source": [
        "### **Libraries.** "
      ]
    },
    {
      "cell_type": "code",
      "metadata": {
        "id": "2SGuw17w45Ji"
      },
      "source": [
        "import os\n",
        "import pathlib\n",
        "import torch\n",
        "import tarfile\n",
        "import torchvision\n",
        "import glob\n",
        "import torch.nn as nn\n",
        "from torch.optim import Adam\n",
        "from PIL import Image\n",
        "import matplotlib.pyplot as plt\n",
        "import torch.nn.functional as F\n",
        "from torchvision import transforms\n",
        "from torchvision.utils import make_grid\n",
        "from torch.utils.data import random_split\n",
        "from torchvision.transforms import ToTensor\n",
        "from torchvision.datasets import ImageFolder\n",
        "from torch.utils.data import Dataset, DataLoader\n",
        "from torchvision.datasets.utils import download_url"
      ],
      "execution_count": 3,
      "outputs": []
    },
    {
      "cell_type": "code",
      "metadata": {
        "id": "5LWN6lsub1-W"
      },
      "source": [
        "#Load libraries\n",
        "import os\n",
        "import numpy as np\n",
        "import torch\n",
        "import glob\n",
        "import torch.nn as nn\n",
        "from torchvision.transforms import transforms\n",
        "from torch.utils.data import DataLoader\n",
        "from torch.optim import Adam\n",
        "from torch.autograd import Variable\n",
        "import torchvision\n",
        "import pathlib\n",
        "from torch.utils.tensorboard import SummaryWriter"
      ],
      "execution_count": 4,
      "outputs": []
    },
    {
      "cell_type": "code",
      "metadata": {
        "id": "-UnrVNzLW64o"
      },
      "source": [
        "#checking for device\n",
        "device=torch.device('cuda' if torch.cuda.is_available() else 'cpu')"
      ],
      "execution_count": 5,
      "outputs": []
    },
    {
      "cell_type": "code",
      "metadata": {
        "colab": {
          "base_uri": "https://localhost:8080/"
        },
        "id": "BFzk9mspW8J3",
        "outputId": "01e5027c-5f29-4eb9-d91a-4801f3795a4d"
      },
      "source": [
        "print(device)"
      ],
      "execution_count": 6,
      "outputs": [
        {
          "output_type": "stream",
          "name": "stdout",
          "text": [
            "cuda\n"
          ]
        }
      ]
    },
    {
      "cell_type": "code",
      "metadata": {
        "id": "NiFwz6Vl-JAu"
      },
      "source": [
        "#GPU\n",
        "\n"
      ],
      "execution_count": 7,
      "outputs": []
    },
    {
      "cell_type": "markdown",
      "metadata": {
        "id": "sUksYAqAQIyV"
      },
      "source": [
        "### **Parameters.** "
      ]
    },
    {
      "cell_type": "code",
      "metadata": {
        "id": "Ec72HIyjXWLY"
      },
      "source": [
        "#Transforms\n",
        "transformer=transforms.Compose([\n",
        "    transforms.Resize((128,128)),\n",
        "    transforms.RandomHorizontalFlip(),\n",
        "    transforms.ToTensor(),  #0-255 to 0-1, numpy to tensors\n",
        "    transforms.Normalize([0.5,0.5,0.5], # 0-1 to [-1,1] , formula (x-mean)/std\n",
        "                        [0.5,0.5,0.5])\n",
        "])"
      ],
      "execution_count": 8,
      "outputs": []
    },
    {
      "cell_type": "code",
      "metadata": {
        "id": "-1F2fErqXf_w"
      },
      "source": [
        "#Dataloader\n",
        "\n",
        "#Path for training and testing directory\n",
        "train_path='../MIT_split/train'\n",
        "test_path='../MIT_split/test'\n",
        "writer = SummaryWriter('../summaryWriter/')\n",
        "train_writer = SummaryWriter('summaryWriter/train')\n",
        "test_writer = SummaryWriter('summaryWriter/test')\n",
        "\n",
        "train_loader=DataLoader(\n",
        "    torchvision.datasets.ImageFolder(train_path,transform=transformer),\n",
        "    batch_size=128, shuffle=True\n",
        "    )\n",
        "\n",
        "test_loader=DataLoader(\n",
        "    torchvision.datasets.ImageFolder(test_path,transform=transformer),\n",
        "    batch_size=128, shuffle=True\n",
        "    )"
      ],
      "execution_count": 9,
      "outputs": []
    },
    {
      "cell_type": "code",
      "metadata": {
        "id": "grxmOzqjXz4t"
      },
      "source": [
        "#Image categories\n",
        "root=pathlib.Path(train_path)\n",
        "classes=sorted([j.name.split('/')[-1] for j in root.iterdir()])"
      ],
      "execution_count": 10,
      "outputs": []
    },
    {
      "cell_type": "code",
      "metadata": {
        "colab": {
          "base_uri": "https://localhost:8080/"
        },
        "id": "uCw0aOFzXz0T",
        "outputId": "11ffbfe0-4525-4e78-c3f5-1a0016c35342"
      },
      "source": [
        "print(classes)"
      ],
      "execution_count": 11,
      "outputs": [
        {
          "output_type": "stream",
          "name": "stdout",
          "text": [
            "['Opencountry', 'coast', 'forest', 'highway', 'inside_city', 'mountain', 'street', 'tallbuilding']\n"
          ]
        }
      ]
    },
    {
      "cell_type": "code",
      "metadata": {
        "id": "CdZHaCG4Xzrj"
      },
      "source": [
        "#CNN Network\n",
        "class MLP(torch.nn.Module):\n",
        "    def __init__(self,num_classes=8):\n",
        "        super(MLP,self).__init__()\n",
        "\n",
        "        self.num_classes = num_classes\n",
        "\n",
        "        #Conv1\n",
        "        self.conv1=torch.nn.Conv2d(3,64,3, padding=1)\n",
        "        #Shape= (128,3,224,224)\n",
        "        self.relu1=nn.ReLU()\n",
        "\n",
        "        #Batch Norm\n",
        "        self.bn1=torch.nn.BatchNorm2d(64)\n",
        "        #Shape= (128,12,224,224)\n",
        "        self.relu2=nn.ReLU()\n",
        "        #Shape= (128,12,224,224)\n",
        "\n",
        "        #MaxPool\n",
        "        self.pool1=torch.nn.MaxPool2d(2)\n",
        "        #Shape= (128,12,112,112)\n",
        "        \n",
        "        #Conv2\n",
        "        self.conv2=torch.nn.Conv2d(64,64,3)\n",
        "        #Shape= (32,112,112)\n",
        "        self.relu3=nn.ReLU()\n",
        "        #Shape= (32,112,112)\n",
        "\n",
        "        #Global Avg Pooling\n",
        "        self.pool2=torch.nn.AdaptiveAvgPool2d(2)\n",
        "\n",
        "        #Dense\n",
        "        self.fc=torch.nn.Linear(256*1*1,2048)\n",
        "        self.relu4=torch.nn.ReLU()\n",
        "\n",
        "        #Dropout\n",
        "        self.drop1 = torch.nn.Dropout(p=0.4)\n",
        "\n",
        "        #Dense\n",
        "        self.fc2=torch.nn.Linear(2048,8)\n",
        "        self.softmax = torch.nn.Softmax(dim=1)\n",
        "\n",
        "       \n",
        "    #Feed forwad function\n",
        "        \n",
        "    def forward(self,input):\n",
        "\n",
        "        output=self.conv1(input)\n",
        "        output=self.relu1(output)\n",
        "\n",
        "        output=self.bn1(output)\n",
        "        output=self.relu2(output)\n",
        "\n",
        "        output=self.pool1(output)\n",
        "\n",
        "        output=self.conv2(output)\n",
        "        output=self.relu3(output)\n",
        "\n",
        "        output=self.pool2(output)\n",
        "        # print(output.shape)\n",
        "\n",
        "        output=output.view(output.size(0),-1)\n",
        "\n",
        "        output=self.fc(output)\n",
        "        output=self.relu4(output)\n",
        "\n",
        "        output=self.drop1(output)\n",
        "\n",
        "        output=output.view(output.size(0),-1)\n",
        "\n",
        "        output=self.fc2(output)            \n",
        "\n",
        "        output=self.softmax(output)\n",
        "            \n",
        "        return output"
      ],
      "execution_count": 12,
      "outputs": []
    },
    {
      "cell_type": "code",
      "metadata": {
        "id": "hQFvRsP7XzeW"
      },
      "source": [
        "model=MLP(num_classes=8).to(device)"
      ],
      "execution_count": 13,
      "outputs": []
    },
    {
      "cell_type": "code",
      "metadata": {
        "colab": {
          "base_uri": "https://localhost:8080/"
        },
        "id": "10QYmYMQ4MeI",
        "outputId": "c1bb24ea-920b-40af-a088-0b66e3b20231"
      },
      "source": [
        "from torchsummary import summary\n",
        "summary (model, input_size=(3,224,224))"
      ],
      "execution_count": 14,
      "outputs": [
        {
          "output_type": "stream",
          "name": "stdout",
          "text": [
            "----------------------------------------------------------------\n        Layer (type)               Output Shape         Param #\n================================================================\n            Conv2d-1         [-1, 64, 224, 224]           1,792\n              ReLU-2         [-1, 64, 224, 224]               0\n       BatchNorm2d-3         [-1, 64, 224, 224]             128\n              ReLU-4         [-1, 64, 224, 224]               0\n         MaxPool2d-5         [-1, 64, 112, 112]               0\n            Conv2d-6         [-1, 64, 110, 110]          36,928\n              ReLU-7         [-1, 64, 110, 110]               0\n AdaptiveAvgPool2d-8             [-1, 64, 2, 2]               0\n            Linear-9                 [-1, 2048]         526,336\n             ReLU-10                 [-1, 2048]               0\n          Dropout-11                 [-1, 2048]               0\n           Linear-12                    [-1, 8]          16,392\n          Softmax-13                    [-1, 8]               0\n================================================================\nTotal params: 581,576\nTrainable params: 581,576\nNon-trainable params: 0\n----------------------------------------------------------------\nInput size (MB): 0.57\nForward/backward pass size (MB): 115.99\nParams size (MB): 2.22\nEstimated Total Size (MB): 118.78\n----------------------------------------------------------------\n"
          ]
        }
      ]
    },
    {
      "cell_type": "code",
      "metadata": {
        "id": "AP72LKEpXzS1"
      },
      "source": [
        "#Optmizer and loss function\n",
        "optimizer=Adam(model.parameters(),lr=0.001)\n",
        "loss_function=nn.CrossEntropyLoss()"
      ],
      "execution_count": 15,
      "outputs": []
    },
    {
      "cell_type": "code",
      "metadata": {
        "id": "5Zfijen9XzHb"
      },
      "source": [
        "num_epochs=500"
      ],
      "execution_count": 16,
      "outputs": []
    },
    {
      "cell_type": "code",
      "metadata": {
        "id": "Dvq5K4TpXy6E"
      },
      "source": [
        "#calculating the size of training and testing images\n",
        "train_count=len(glob.glob(train_path+'/**/*.jpg'))\n",
        "test_count=len(glob.glob(test_path+'/**/*.jpg'))"
      ],
      "execution_count": 17,
      "outputs": []
    },
    {
      "cell_type": "code",
      "metadata": {
        "colab": {
          "base_uri": "https://localhost:8080/"
        },
        "id": "ZbempU6FYjPU",
        "outputId": "d7e4373e-3f43-45e7-bc78-ccad37f61fde"
      },
      "source": [
        "print(train_count,test_count)"
      ],
      "execution_count": 18,
      "outputs": [
        {
          "output_type": "stream",
          "name": "stdout",
          "text": [
            "1881 807\n"
          ]
        }
      ]
    },
    {
      "cell_type": "code",
      "metadata": {
        "id": "UsZmoN3yYjLM",
        "colab": {
          "base_uri": "https://localhost:8080/"
        },
        "outputId": "72da7f9d-33f5-476c-e8c8-049d2b720ac7",
        "tags": [
          "outputPrepend"
        ]
      },
      "source": [
        "\n",
        "#Model training and saving best model\n",
        "#source: https://github.com/gaurav67890/Pytorch_Tutorials/blob/master/cnn-scratch-training.ipynb\n",
        "\n",
        "#Model training and saving best model\n",
        "import tensorflow as tf\n",
        "import tensorboard as tb\n",
        "tf.io.gfile = tb.compat.tensorflow_stub.io.gfile\n",
        "\n",
        "best_accuracy=0.0\n",
        "\n",
        "for epoch in range(num_epochs):\n",
        "    \n",
        "    #Evaluation and training on training dataset\n",
        "    model.train()\n",
        "    train_accuracy=0.0\n",
        "    train_loss=0.0\n",
        "    \n",
        "    for i, data in enumerate(train_loader,0):\n",
        "        if torch.cuda.is_available():\n",
        "            train_images, train_labels = data\n",
        "            train_images=Variable(train_images.cuda())\n",
        "            train_labels=Variable(train_labels.cuda())\n",
        "            \n",
        "        optimizer.zero_grad()\n",
        "        \n",
        "        train_outputs=model(train_images)\n",
        "        loss=loss_function(train_outputs,train_labels)\n",
        "        loss.backward()\n",
        "        train_loss += loss.item()*len(train_images)\n",
        "        optimizer.step()\n",
        "        \n",
        "        # train_loss+= loss.cpu().data*train_images.size(0)\n",
        "        _,prediction=torch.max(train_outputs.data,1)\n",
        "        \n",
        "        train_accuracy+=int(torch.sum(prediction==train_labels.data))\n",
        "\n",
        "    features = train_images.view(-1, 128 * 128)\n",
        "    \n",
        "    train_accuracy=train_accuracy/train_count\n",
        "    train_loss=train_loss/train_count    \n",
        "\n",
        "    # print('Epoch: '+str(epoch)+' Train Loss: '+str(train_loss)+' Train Accuracy: '+str(train_accuracy))\n",
        "  \n",
        "    # Evaluation on testing dataset\n",
        "    model.eval()\n",
        "    \n",
        "    test_accuracy=0.0\n",
        "    val_loss=0.0\n",
        "    for i, (test_images,test_labels) in enumerate(test_loader):\n",
        "       if torch.cuda.is_available():\n",
        "           test_images=Variable(test_images.cuda())\n",
        "           test_labels=Variable(test_labels.cuda())\n",
        "            \n",
        "       test_outputs=model(test_images)\n",
        "       _,prediction=torch.max(test_outputs.data,1)\n",
        "       \n",
        "       temp_test_loss = loss_function(test_outputs, test_labels)\n",
        "       temp_test_loss.backward()\n",
        "       val_loss += temp_test_loss.item()*len(test_images)\n",
        "\n",
        "       test_accuracy+=int(torch.sum(prediction==test_labels.data))\n",
        "    \n",
        "    test_accuracy=test_accuracy/test_count\n",
        "    test_loss=val_loss/test_count\n",
        "        \n",
        "    print('Epoch: '+str(epoch+1)+' Train Loss: '+str(train_loss)+' Train Accuracy: '+str(train_accuracy)+' Test Accuracy: '+str(test_accuracy))\n",
        "    \n",
        "    test_writer.add_scalar('Loss/test', test_loss, epoch+1)\n",
        "    test_writer.add_scalar('Acc/test', test_accuracy, epoch+1)\n",
        "    train_writer.add_scalar('Loss/train', train_loss, epoch+1)\n",
        "    train_writer.add_scalar('Acc/train', train_accuracy, epoch+1)\n",
        "    \n",
        "    # Save the best model\n",
        "    if test_accuracy>best_accuracy:\n",
        "       torch.save(model.state_dict(),'best_checkpoint.model')\n",
        "       print(\"new checkpoint\")\n",
        "       best_accuracy=test_accuracy\n",
        "writer.add_graph(model, train_images)\n"
      ],
      "execution_count": 19,
      "outputs": [
        {
          "output_type": "stream",
          "name": "stdout",
          "text": [
            "50346113100513 Train Accuracy: 0.9606592238171185 Test Accuracy: 0.8537794299876085\n",
            "Epoch: 321 Train Loss: 1.3142994130817516 Train Accuracy: 0.960127591706539 Test Accuracy: 0.8574969021065675\n",
            "Epoch: 322 Train Loss: 1.313888896468597 Train Accuracy: 0.961190855927698 Test Accuracy: 0.8612143742255266\n",
            "Epoch: 323 Train Loss: 1.3098901177517346 Train Accuracy: 0.9649122807017544 Test Accuracy: 0.8674101610904585\n",
            "Epoch: 324 Train Loss: 1.3107472480705988 Train Accuracy: 0.962254120148857 Test Accuracy: 0.8587360594795539\n",
            "Epoch: 325 Train Loss: 1.3074152075439485 Train Accuracy: 0.9670388091440723 Test Accuracy: 0.8785625774473358\n",
            "Epoch: 326 Train Loss: 1.3070514158388835 Train Accuracy: 0.9675704412546517 Test Accuracy: 0.8748451053283767\n",
            "Epoch: 327 Train Loss: 1.3063886839300314 Train Accuracy: 0.9670388091440723 Test Accuracy: 0.8798017348203222\n",
            "Epoch: 328 Train Loss: 1.304168909867351 Train Accuracy: 0.9707602339181286 Test Accuracy: 0.872366790582404\n",
            "Epoch: 329 Train Loss: 1.303631631951583 Train Accuracy: 0.9707602339181286 Test Accuracy: 0.8785625774473358\n",
            "Epoch: 330 Train Loss: 1.303412809199567 Train Accuracy: 0.9712918660287081 Test Accuracy: 0.872366790582404\n",
            "Epoch: 331 Train Loss: 1.308154121033376 Train Accuracy: 0.9659755449229134 Test Accuracy: 0.8636926889714994\n",
            "Epoch: 332 Train Loss: 1.3164773380293737 Train Accuracy: 0.9580010632642212 Test Accuracy: 0.8711276332094176\n",
            "Epoch: 333 Train Loss: 1.3083430820801738 Train Accuracy: 0.9670388091440723 Test Accuracy: 0.8711276332094176\n",
            "Epoch: 334 Train Loss: 1.3069830904103288 Train Accuracy: 0.9681020733652312 Test Accuracy: 0.8612143742255266\n",
            "Epoch: 335 Train Loss: 1.3114602262196802 Train Accuracy: 0.9643806485911749 Test Accuracy: 0.8686493184634448\n",
            "Epoch: 336 Train Loss: 1.3097943257043363 Train Accuracy: 0.9659755449229134 Test Accuracy: 0.8649318463444857\n",
            "Epoch: 337 Train Loss: 1.3067569496275453 Train Accuracy: 0.9681020733652312 Test Accuracy: 0.8649318463444857\n",
            "Epoch: 338 Train Loss: 1.306178191378673 Train Accuracy: 0.9686337054758107 Test Accuracy: 0.8537794299876085\n",
            "Epoch: 339 Train Loss: 1.304974985401533 Train Accuracy: 0.9696969696969697 Test Accuracy: 0.8760842627013631\n",
            "Epoch: 340 Train Loss: 1.3046380652194958 Train Accuracy: 0.9696969696969697 Test Accuracy: 0.8686493184634448\n",
            "Epoch: 341 Train Loss: 1.3059919740467993 Train Accuracy: 0.9686337054758107 Test Accuracy: 0.8698884758364313\n",
            "Epoch: 342 Train Loss: 1.3041732913949653 Train Accuracy: 0.9707602339181286 Test Accuracy: 0.8711276332094176\n",
            "Epoch: 343 Train Loss: 1.3068975374332328 Train Accuracy: 0.9681020733652312 Test Accuracy: 0.8661710037174721\n",
            "Epoch: 344 Train Loss: 1.3074933474904231 Train Accuracy: 0.9659755449229134 Test Accuracy: 0.8711276332094176\n",
            "Epoch: 345 Train Loss: 1.3068695543041766 Train Accuracy: 0.9675704412546517 Test Accuracy: 0.8711276332094176\n",
            "Epoch: 346 Train Loss: 1.3103123828491463 Train Accuracy: 0.9643806485911749 Test Accuracy: 0.8760842627013631\n",
            "Epoch: 347 Train Loss: 1.3106511776146896 Train Accuracy: 0.9649122807017544 Test Accuracy: 0.8525402726146221\n",
            "Epoch: 348 Train Loss: 1.3170489088643553 Train Accuracy: 0.9580010632642212 Test Accuracy: 0.8587360594795539\n",
            "Epoch: 349 Train Loss: 1.3174323394918366 Train Accuracy: 0.9558745348219032 Test Accuracy: 0.8475836431226765\n",
            "Epoch: 350 Train Loss: 1.3125897932407515 Train Accuracy: 0.9617224880382775 Test Accuracy: 0.862453531598513\n",
            "Epoch: 351 Train Loss: 1.3061385883542211 Train Accuracy: 0.9696969696969697 Test Accuracy: 0.8773234200743495\n",
            "Epoch: 352 Train Loss: 1.3073921812017948 Train Accuracy: 0.9665071770334929 Test Accuracy: 0.8562577447335812\n",
            "Epoch: 353 Train Loss: 1.3088854042410154 Train Accuracy: 0.9649122807017544 Test Accuracy: 0.872366790582404\n",
            "Epoch: 354 Train Loss: 1.3061017644715904 Train Accuracy: 0.9681020733652312 Test Accuracy: 0.8748451053283767\n",
            "Epoch: 355 Train Loss: 1.3060046060487098 Train Accuracy: 0.9686337054758107 Test Accuracy: 0.872366790582404\n",
            "Epoch: 356 Train Loss: 1.3034978141688338 Train Accuracy: 0.9712918660287081 Test Accuracy: 0.8760842627013631\n",
            "Epoch: 357 Train Loss: 1.303103325596393 Train Accuracy: 0.9718234981392876 Test Accuracy: 0.8835192069392813\n",
            "Epoch: 358 Train Loss: 1.302975809238237 Train Accuracy: 0.9707602339181286 Test Accuracy: 0.8785625774473358\n",
            "Epoch: 359 Train Loss: 1.303240338137402 Train Accuracy: 0.9712918660287081 Test Accuracy: 0.8748451053283767\n",
            "Epoch: 360 Train Loss: 1.3029046737406242 Train Accuracy: 0.9712918660287081 Test Accuracy: 0.8798017348203222\n",
            "Epoch: 361 Train Loss: 1.3027442338807604 Train Accuracy: 0.9718234981392876 Test Accuracy: 0.8785625774473358\n",
            "Epoch: 362 Train Loss: 1.301967342377723 Train Accuracy: 0.9723551302498671 Test Accuracy: 0.8736059479553904\n",
            "Epoch: 363 Train Loss: 1.3036941500942103 Train Accuracy: 0.9702286018075492 Test Accuracy: 0.8810408921933085\n",
            "Epoch: 364 Train Loss: 1.3014582770102712 Train Accuracy: 0.9734183944710261 Test Accuracy: 0.8773234200743495\n",
            "Epoch: 365 Train Loss: 1.3008709905757225 Train Accuracy: 0.9734183944710261 Test Accuracy: 0.8785625774473358\n",
            "Epoch: 366 Train Loss: 1.3009802582161278 Train Accuracy: 0.9734183944710261 Test Accuracy: 0.8760842627013631\n",
            "Epoch: 367 Train Loss: 1.3001900617902675 Train Accuracy: 0.9739500265816056 Test Accuracy: 0.885997521685254\n",
            "Epoch: 368 Train Loss: 1.3014939821888194 Train Accuracy: 0.9723551302498671 Test Accuracy: 0.8760842627013631\n",
            "Epoch: 369 Train Loss: 1.30249217784766 Train Accuracy: 0.9712918660287081 Test Accuracy: 0.8897149938042132\n",
            "new checkpoint\n",
            "Epoch: 370 Train Loss: 1.3014671884908884 Train Accuracy: 0.9728867623604466 Test Accuracy: 0.8798017348203222\n",
            "Epoch: 371 Train Loss: 1.3007286541136194 Train Accuracy: 0.9734183944710261 Test Accuracy: 0.8810408921933085\n",
            "Epoch: 372 Train Loss: 1.3005755469242606 Train Accuracy: 0.9734183944710261 Test Accuracy: 0.8785625774473358\n",
            "Epoch: 373 Train Loss: 1.3017656177615056 Train Accuracy: 0.9728867623604466 Test Accuracy: 0.8686493184634448\n",
            "Epoch: 374 Train Loss: 1.3070036496715556 Train Accuracy: 0.9681020733652312 Test Accuracy: 0.8748451053283767\n",
            "Epoch: 375 Train Loss: 1.3054673097540508 Train Accuracy: 0.9681020733652312 Test Accuracy: 0.8810408921933085\n",
            "Epoch: 376 Train Loss: 1.3036891947015685 Train Accuracy: 0.9712918660287081 Test Accuracy: 0.8698884758364313\n",
            "Epoch: 377 Train Loss: 1.3086010722135497 Train Accuracy: 0.9659755449229134 Test Accuracy: 0.8674101610904585\n",
            "Epoch: 378 Train Loss: 1.3080903189033983 Train Accuracy: 0.9670388091440723 Test Accuracy: 0.838909541511772\n",
            "Epoch: 379 Train Loss: 1.3067891174399555 Train Accuracy: 0.9681020733652312 Test Accuracy: 0.8773234200743495\n",
            "Epoch: 380 Train Loss: 1.3085506418675328 Train Accuracy: 0.9654439128123339 Test Accuracy: 0.8711276332094176\n",
            "Epoch: 381 Train Loss: 1.3067969960902739 Train Accuracy: 0.9681020733652312 Test Accuracy: 0.872366790582404\n",
            "Epoch: 382 Train Loss: 1.306196142421765 Train Accuracy: 0.9681020733652312 Test Accuracy: 0.872366790582404\n",
            "Epoch: 383 Train Loss: 1.3040266148528161 Train Accuracy: 0.9702286018075492 Test Accuracy: 0.8872366790582404\n",
            "Epoch: 384 Train Loss: 1.3060530431089346 Train Accuracy: 0.9681020733652312 Test Accuracy: 0.8760842627013631\n",
            "Epoch: 385 Train Loss: 1.3038973462258419 Train Accuracy: 0.9707602339181286 Test Accuracy: 0.8698884758364313\n",
            "Epoch: 386 Train Loss: 1.3048246930977692 Train Accuracy: 0.9696969696969697 Test Accuracy: 0.8847583643122676\n",
            "Epoch: 387 Train Loss: 1.3022320095621989 Train Accuracy: 0.9728867623604466 Test Accuracy: 0.8698884758364313\n",
            "Epoch: 388 Train Loss: 1.300911538845551 Train Accuracy: 0.9744816586921851 Test Accuracy: 0.8711276332094176\n",
            "Epoch: 389 Train Loss: 1.3007699156745451 Train Accuracy: 0.9739500265816056 Test Accuracy: 0.8636926889714994\n",
            "Epoch: 390 Train Loss: 1.3028260049257172 Train Accuracy: 0.9718234981392876 Test Accuracy: 0.8785625774473358\n",
            "Epoch: 391 Train Loss: 1.300593717436661 Train Accuracy: 0.9739500265816056 Test Accuracy: 0.8711276332094176\n",
            "Epoch: 392 Train Loss: 1.3029829541905518 Train Accuracy: 0.9718234981392876 Test Accuracy: 0.8736059479553904\n",
            "Epoch: 393 Train Loss: 1.3009500410378074 Train Accuracy: 0.9734183944710261 Test Accuracy: 0.8686493184634448\n",
            "Epoch: 394 Train Loss: 1.3002447423498913 Train Accuracy: 0.9739500265816056 Test Accuracy: 0.8698884758364313\n",
            "Epoch: 395 Train Loss: 1.300781578601896 Train Accuracy: 0.9739500265816056 Test Accuracy: 0.8661710037174721\n",
            "Epoch: 396 Train Loss: 1.2994606007546075 Train Accuracy: 0.9750132908027644 Test Accuracy: 0.8760842627013631\n",
            "Epoch: 397 Train Loss: 1.2999040830141684 Train Accuracy: 0.9744816586921851 Test Accuracy: 0.8711276332094176\n",
            "Epoch: 398 Train Loss: 1.299600987786755 Train Accuracy: 0.9744816586921851 Test Accuracy: 0.8798017348203222\n",
            "Epoch: 399 Train Loss: 1.2991198539607136 Train Accuracy: 0.9750132908027644 Test Accuracy: 0.8773234200743495\n",
            "Epoch: 400 Train Loss: 1.299105348579431 Train Accuracy: 0.9750132908027644 Test Accuracy: 0.885997521685254\n",
            "Epoch: 401 Train Loss: 1.299079248716323 Train Accuracy: 0.9750132908027644 Test Accuracy: 0.8760842627013631\n",
            "Epoch: 402 Train Loss: 1.2997416690079093 Train Accuracy: 0.9744816586921851 Test Accuracy: 0.885997521685254\n",
            "Epoch: 403 Train Loss: 1.2990664904070686 Train Accuracy: 0.9750132908027644 Test Accuracy: 0.885997521685254\n",
            "Epoch: 404 Train Loss: 1.3007635509378412 Train Accuracy: 0.9734183944710261 Test Accuracy: 0.8810408921933085\n",
            "Epoch: 405 Train Loss: 1.3022520586507615 Train Accuracy: 0.9718234981392876 Test Accuracy: 0.8736059479553904\n",
            "Epoch: 406 Train Loss: 1.3024725739085123 Train Accuracy: 0.9723551302498671 Test Accuracy: 0.8760842627013631\n",
            "Epoch: 407 Train Loss: 1.3030730478944834 Train Accuracy: 0.9712918660287081 Test Accuracy: 0.8736059479553904\n",
            "Epoch: 408 Train Loss: 1.3008003472521354 Train Accuracy: 0.9739500265816056 Test Accuracy: 0.8785625774473358\n",
            "Epoch: 409 Train Loss: 1.3025108897768394 Train Accuracy: 0.9723551302498671 Test Accuracy: 0.8674101610904585\n",
            "Epoch: 410 Train Loss: 1.3032803187530007 Train Accuracy: 0.9712918660287081 Test Accuracy: 0.8748451053283767\n",
            "Epoch: 411 Train Loss: 1.3099596244359764 Train Accuracy: 0.9643806485911749 Test Accuracy: 0.8612143742255266\n",
            "Epoch: 412 Train Loss: 1.3080704793975684 Train Accuracy: 0.9654439128123339 Test Accuracy: 0.8674101610904585\n",
            "Epoch: 413 Train Loss: 1.3046568706275172 Train Accuracy: 0.9712918660287081 Test Accuracy: 0.872366790582404\n",
            "Epoch: 414 Train Loss: 1.3047171268990418 Train Accuracy: 0.9691653375863902 Test Accuracy: 0.8748451053283767\n",
            "Epoch: 415 Train Loss: 1.3036395331635746 Train Accuracy: 0.9702286018075492 Test Accuracy: 0.8711276332094176\n",
            "Epoch: 416 Train Loss: 1.3057511671625002 Train Accuracy: 0.9691653375863902 Test Accuracy: 0.862453531598513\n",
            "Epoch: 417 Train Loss: 1.3070693149140766 Train Accuracy: 0.9670388091440723 Test Accuracy: 0.8674101610904585\n",
            "Epoch: 418 Train Loss: 1.3074575964280228 Train Accuracy: 0.9665071770334929 Test Accuracy: 0.872366790582404\n",
            "Epoch: 419 Train Loss: 1.3042098525862058 Train Accuracy: 0.9707602339181286 Test Accuracy: 0.8513011152416357\n",
            "Epoch: 420 Train Loss: 1.3150713268206007 Train Accuracy: 0.9580010632642212 Test Accuracy: 0.8649318463444857\n",
            "Epoch: 421 Train Loss: 1.3207069490261372 Train Accuracy: 0.9548112706007443 Test Accuracy: 0.8612143742255266\n",
            "Epoch: 422 Train Loss: 1.3152734472167296 Train Accuracy: 0.960127591706539 Test Accuracy: 0.8550185873605948\n",
            "Epoch: 423 Train Loss: 1.315959821097208 Train Accuracy: 0.9585326953748007 Test Accuracy: 0.8599752168525403\n",
            "Epoch: 424 Train Loss: 1.3100730025470415 Train Accuracy: 0.9643806485911749 Test Accuracy: 0.8636926889714994\n",
            "Epoch: 425 Train Loss: 1.3071102605482037 Train Accuracy: 0.9675704412546517 Test Accuracy: 0.8574969021065675\n",
            "Epoch: 426 Train Loss: 1.3041127102606984 Train Accuracy: 0.9702286018075492 Test Accuracy: 0.8686493184634448\n",
            "Epoch: 427 Train Loss: 1.303491236110243 Train Accuracy: 0.9707602339181286 Test Accuracy: 0.8686493184634448\n",
            "Epoch: 428 Train Loss: 1.3029474643619057 Train Accuracy: 0.9723551302498671 Test Accuracy: 0.8674101610904585\n",
            "Epoch: 429 Train Loss: 1.3038890702746004 Train Accuracy: 0.9707602339181286 Test Accuracy: 0.872366790582404\n",
            "Epoch: 430 Train Loss: 1.300974510439782 Train Accuracy: 0.9728867623604466 Test Accuracy: 0.8674101610904585\n",
            "Epoch: 431 Train Loss: 1.3006199867658195 Train Accuracy: 0.9739500265816056 Test Accuracy: 0.872366790582404\n",
            "Epoch: 432 Train Loss: 1.299237822294869 Train Accuracy: 0.9750132908027644 Test Accuracy: 0.8736059479553904\n",
            "Epoch: 433 Train Loss: 1.3004211142366076 Train Accuracy: 0.9739500265816056 Test Accuracy: 0.8686493184634448\n",
            "Epoch: 434 Train Loss: 1.299220236484704 Train Accuracy: 0.9750132908027644 Test Accuracy: 0.872366790582404\n",
            "Epoch: 435 Train Loss: 1.3000928830872311 Train Accuracy: 0.9744816586921851 Test Accuracy: 0.8736059479553904\n",
            "Epoch: 436 Train Loss: 1.2994804538227915 Train Accuracy: 0.9750132908027644 Test Accuracy: 0.8636926889714994\n",
            "Epoch: 437 Train Loss: 1.2996510762220237 Train Accuracy: 0.9744816586921851 Test Accuracy: 0.8698884758364313\n",
            "Epoch: 438 Train Loss: 1.2997283436148044 Train Accuracy: 0.9750132908027644 Test Accuracy: 0.8736059479553904\n",
            "Epoch: 439 Train Loss: 1.298819929915879 Train Accuracy: 0.9750132908027644 Test Accuracy: 0.8698884758364313\n",
            "Epoch: 440 Train Loss: 1.30247026906883 Train Accuracy: 0.9718234981392876 Test Accuracy: 0.8674101610904585\n",
            "Epoch: 441 Train Loss: 1.3033385900409218 Train Accuracy: 0.9707602339181286 Test Accuracy: 0.8674101610904585\n",
            "Epoch: 442 Train Loss: 1.3021433744450823 Train Accuracy: 0.9718234981392876 Test Accuracy: 0.8785625774473358\n",
            "Epoch: 443 Train Loss: 1.3025309730881647 Train Accuracy: 0.9718234981392876 Test Accuracy: 0.8587360594795539\n",
            "Epoch: 444 Train Loss: 1.3049720967468716 Train Accuracy: 0.9696969696969697 Test Accuracy: 0.8698884758364313\n",
            "Epoch: 445 Train Loss: 1.309568079147866 Train Accuracy: 0.9643806485911749 Test Accuracy: 0.8587360594795539\n",
            "Epoch: 446 Train Loss: 1.304907915314609 Train Accuracy: 0.9696969696969697 Test Accuracy: 0.8674101610904585\n",
            "Epoch: 447 Train Loss: 1.3045654073159534 Train Accuracy: 0.9702286018075492 Test Accuracy: 0.8698884758364313\n",
            "Epoch: 448 Train Loss: 1.308756609535927 Train Accuracy: 0.9654439128123339 Test Accuracy: 0.8686493184634448\n",
            "Epoch: 449 Train Loss: 1.307617892805786 Train Accuracy: 0.9665071770334929 Test Accuracy: 0.862453531598513\n",
            "Epoch: 450 Train Loss: 1.3021827539441941 Train Accuracy: 0.9712918660287081 Test Accuracy: 0.862453531598513\n",
            "Epoch: 451 Train Loss: 1.3215109142833792 Train Accuracy: 0.9537480063795853 Test Accuracy: 0.8351920693928129\n",
            "Epoch: 452 Train Loss: 1.317651142977705 Train Accuracy: 0.9569377990430622 Test Accuracy: 0.8587360594795539\n",
            "Epoch: 453 Train Loss: 1.322330659086054 Train Accuracy: 0.9532163742690059 Test Accuracy: 0.8463444857496902\n",
            "Epoch: 454 Train Loss: 1.3181327621332195 Train Accuracy: 0.9574694311536417 Test Accuracy: 0.8513011152416357\n",
            "Epoch: 455 Train Loss: 1.31071543826631 Train Accuracy: 0.962254120148857 Test Accuracy: 0.8612143742255266\n",
            "Epoch: 456 Train Loss: 1.3034698733112269 Train Accuracy: 0.9718234981392876 Test Accuracy: 0.8785625774473358\n",
            "Epoch: 457 Train Loss: 1.306281523334416 Train Accuracy: 0.9675704412546517 Test Accuracy: 0.8736059479553904\n",
            "Epoch: 458 Train Loss: 1.3055362981535665 Train Accuracy: 0.9691653375863902 Test Accuracy: 0.8463444857496902\n",
            "Epoch: 459 Train Loss: 1.3091120148896538 Train Accuracy: 0.9659755449229134 Test Accuracy: 0.8513011152416357\n",
            "Epoch: 460 Train Loss: 1.3020828226536656 Train Accuracy: 0.9723551302498671 Test Accuracy: 0.862453531598513\n",
            "Epoch: 461 Train Loss: 1.3076339927143015 Train Accuracy: 0.9659755449229134 Test Accuracy: 0.8574969021065675\n",
            "Epoch: 462 Train Loss: 1.3092799507386503 Train Accuracy: 0.9649122807017544 Test Accuracy: 0.8698884758364313\n",
            "Epoch: 463 Train Loss: 1.3031778767792106 Train Accuracy: 0.9702286018075492 Test Accuracy: 0.8736059479553904\n",
            "Epoch: 464 Train Loss: 1.302508512879229 Train Accuracy: 0.9723551302498671 Test Accuracy: 0.872366790582404\n",
            "Epoch: 465 Train Loss: 1.3116020044705008 Train Accuracy: 0.962254120148857 Test Accuracy: 0.8562577447335812\n",
            "Epoch: 466 Train Loss: 1.3053406589782852 Train Accuracy: 0.9691653375863902 Test Accuracy: 0.8562577447335812\n",
            "Epoch: 467 Train Loss: 1.3068585092878164 Train Accuracy: 0.9675704412546517 Test Accuracy: 0.8562577447335812\n",
            "Epoch: 468 Train Loss: 1.30755027629542 Train Accuracy: 0.9659755449229134 Test Accuracy: 0.8649318463444857\n",
            "Epoch: 469 Train Loss: 1.3022272488590507 Train Accuracy: 0.9712918660287081 Test Accuracy: 0.8451053283767038\n",
            "Epoch: 470 Train Loss: 1.3095559395734837 Train Accuracy: 0.9649122807017544 Test Accuracy: 0.8661710037174721\n",
            "Epoch: 471 Train Loss: 1.3036919243471348 Train Accuracy: 0.9707602339181286 Test Accuracy: 0.8612143742255266\n",
            "Epoch: 472 Train Loss: 1.300682710118271 Train Accuracy: 0.9734183944710261 Test Accuracy: 0.8587360594795539\n",
            "Epoch: 473 Train Loss: 1.302243943800006 Train Accuracy: 0.9723551302498671 Test Accuracy: 0.8773234200743495\n",
            "Epoch: 474 Train Loss: 1.300773740702015 Train Accuracy: 0.9739500265816056 Test Accuracy: 0.8835192069392813\n",
            "Epoch: 475 Train Loss: 1.3024481525451563 Train Accuracy: 0.9718234981392876 Test Accuracy: 0.8636926889714994\n",
            "Epoch: 476 Train Loss: 1.3033737527253082 Train Accuracy: 0.9707602339181286 Test Accuracy: 0.8698884758364313\n",
            "Epoch: 477 Train Loss: 1.3012554675324808 Train Accuracy: 0.9728867623604466 Test Accuracy: 0.8847583643122676\n",
            "Epoch: 478 Train Loss: 1.3004180111826766 Train Accuracy: 0.9734183944710261 Test Accuracy: 0.862453531598513\n",
            "Epoch: 479 Train Loss: 1.3032594390653156 Train Accuracy: 0.9707602339181286 Test Accuracy: 0.862453531598513\n",
            "Epoch: 480 Train Loss: 1.2998599921814118 Train Accuracy: 0.9744816586921851 Test Accuracy: 0.8798017348203222\n",
            "Epoch: 481 Train Loss: 1.3006200069825995 Train Accuracy: 0.9734183944710261 Test Accuracy: 0.8711276332094176\n",
            "Epoch: 482 Train Loss: 1.3007327046944448 Train Accuracy: 0.9734183944710261 Test Accuracy: 0.8760842627013631\n",
            "Epoch: 483 Train Loss: 1.2988373538650522 Train Accuracy: 0.9755449229133439 Test Accuracy: 0.8649318463444857\n",
            "Epoch: 484 Train Loss: 1.300197370821716 Train Accuracy: 0.9739500265816056 Test Accuracy: 0.8587360594795539\n",
            "Epoch: 485 Train Loss: 1.3044302514231882 Train Accuracy: 0.9696969696969697 Test Accuracy: 0.8661710037174721\n",
            "Epoch: 486 Train Loss: 1.3025288654729954 Train Accuracy: 0.9728867623604466 Test Accuracy: 0.885997521685254\n",
            "Epoch: 487 Train Loss: 1.3034672777681893 Train Accuracy: 0.9707602339181286 Test Accuracy: 0.8698884758364313\n",
            "Epoch: 488 Train Loss: 1.3017321534767738 Train Accuracy: 0.9723551302498671 Test Accuracy: 0.8711276332094176\n",
            "Epoch: 489 Train Loss: 1.3042166515717413 Train Accuracy: 0.9696969696969697 Test Accuracy: 0.8562577447335812\n",
            "Epoch: 490 Train Loss: 1.3042133375408167 Train Accuracy: 0.9696969696969697 Test Accuracy: 0.862453531598513\n",
            "Epoch: 491 Train Loss: 1.3043446085796528 Train Accuracy: 0.9702286018075492 Test Accuracy: 0.8587360594795539\n",
            "Epoch: 492 Train Loss: 1.3029272209007268 Train Accuracy: 0.9712918660287081 Test Accuracy: 0.8599752168525403\n",
            "Epoch: 493 Train Loss: 1.2995172569816382 Train Accuracy: 0.9750132908027644 Test Accuracy: 0.862453531598513\n",
            "Epoch: 494 Train Loss: 1.301743817101255 Train Accuracy: 0.9723551302498671 Test Accuracy: 0.8661710037174721\n",
            "Epoch: 495 Train Loss: 1.3023204982185668 Train Accuracy: 0.9718234981392876 Test Accuracy: 0.8674101610904585\n",
            "Epoch: 496 Train Loss: 1.3005306142115454 Train Accuracy: 0.9734183944710261 Test Accuracy: 0.8760842627013631\n",
            "Epoch: 497 Train Loss: 1.3024595587384125 Train Accuracy: 0.9718234981392876 Test Accuracy: 0.8587360594795539\n",
            "Epoch: 498 Train Loss: 1.306114589008228 Train Accuracy: 0.9675704412546517 Test Accuracy: 0.8636926889714994\n",
            "Epoch: 499 Train Loss: 1.3038620140754056 Train Accuracy: 0.9707602339181286 Test Accuracy: 0.8649318463444857\n",
            "Epoch: 500 Train Loss: 1.3045815913871144 Train Accuracy: 0.9702286018075492 Test Accuracy: 0.8661710037174721\n"
          ]
        }
      ]
    },
    {
      "cell_type": "code",
      "metadata": {
        "id": "f8yojcHMYjER"
      },
      "source": [],
      "execution_count": null,
      "outputs": []
    },
    {
      "cell_type": "code",
      "metadata": {
        "id": "xP986GgXYi6t"
      },
      "source": [],
      "execution_count": null,
      "outputs": []
    },
    {
      "cell_type": "code",
      "metadata": {
        "id": "CRYIB8IQZPLV"
      },
      "source": [],
      "execution_count": null,
      "outputs": []
    },
    {
      "cell_type": "code",
      "metadata": {
        "id": "7m9SZWFLZO94"
      },
      "source": [],
      "execution_count": null,
      "outputs": []
    },
    {
      "cell_type": "code",
      "metadata": {
        "id": "fzTinpHLZO3R"
      },
      "source": [],
      "execution_count": null,
      "outputs": []
    },
    {
      "cell_type": "code",
      "metadata": {
        "id": "hhk56q4CZOwC"
      },
      "source": [],
      "execution_count": null,
      "outputs": []
    },
    {
      "cell_type": "code",
      "metadata": {
        "id": "mzwmkIPwZOkO"
      },
      "source": [],
      "execution_count": null,
      "outputs": []
    },
    {
      "cell_type": "code",
      "metadata": {
        "id": "eCwsTtoMYisP"
      },
      "source": [],
      "execution_count": null,
      "outputs": []
    },
    {
      "cell_type": "code",
      "metadata": {
        "id": "8nKlgebADKMs"
      },
      "source": [
        "#"
      ],
      "execution_count": 20,
      "outputs": []
    },
    {
      "cell_type": "markdown",
      "metadata": {
        "id": "fkL9z2drEx3Y"
      },
      "source": [
        "# **Hyperparametrization**"
      ]
    },
    {
      "cell_type": "code",
      "metadata": {
        "id": "nPy9mn_PZgIC"
      },
      "source": [
        "# list all data in history\n",
        "# summarize history for accuracy\n",
        "plt.plot(history.history['accuracy'])\n",
        "plt.plot(history.history['val_accuracy'])\n",
        "plt.title('model accuracy')\n",
        "plt.ylabel('accuracy')\n",
        "plt.xlabel('epoch')\n",
        "plt.legend(['train', 'validation'], loc='lower right')\n",
        "plt.savefig('../logs/plots_full_data/accuracy_hyper.jpg')\n",
        "#plt.close()"
      ],
      "execution_count": 21,
      "outputs": [
        {
          "output_type": "error",
          "ename": "NameError",
          "evalue": "name 'history' is not defined",
          "traceback": [
            "\u001b[1;31m---------------------------------------------------------------------------\u001b[0m",
            "\u001b[1;31mNameError\u001b[0m                                 Traceback (most recent call last)",
            "\u001b[1;32m<ipython-input-21-b1bbf43b3833>\u001b[0m in \u001b[0;36m<module>\u001b[1;34m\u001b[0m\n\u001b[0;32m      1\u001b[0m \u001b[1;31m# list all data in history\u001b[0m\u001b[1;33m\u001b[0m\u001b[1;33m\u001b[0m\u001b[1;33m\u001b[0m\u001b[0m\n\u001b[0;32m      2\u001b[0m \u001b[1;31m# summarize history for accuracy\u001b[0m\u001b[1;33m\u001b[0m\u001b[1;33m\u001b[0m\u001b[1;33m\u001b[0m\u001b[0m\n\u001b[1;32m----> 3\u001b[1;33m \u001b[0mplt\u001b[0m\u001b[1;33m.\u001b[0m\u001b[0mplot\u001b[0m\u001b[1;33m(\u001b[0m\u001b[0mhistory\u001b[0m\u001b[1;33m.\u001b[0m\u001b[0mhistory\u001b[0m\u001b[1;33m[\u001b[0m\u001b[1;34m'accuracy'\u001b[0m\u001b[1;33m]\u001b[0m\u001b[1;33m)\u001b[0m\u001b[1;33m\u001b[0m\u001b[1;33m\u001b[0m\u001b[0m\n\u001b[0m\u001b[0;32m      4\u001b[0m \u001b[0mplt\u001b[0m\u001b[1;33m.\u001b[0m\u001b[0mplot\u001b[0m\u001b[1;33m(\u001b[0m\u001b[0mhistory\u001b[0m\u001b[1;33m.\u001b[0m\u001b[0mhistory\u001b[0m\u001b[1;33m[\u001b[0m\u001b[1;34m'val_accuracy'\u001b[0m\u001b[1;33m]\u001b[0m\u001b[1;33m)\u001b[0m\u001b[1;33m\u001b[0m\u001b[1;33m\u001b[0m\u001b[0m\n\u001b[0;32m      5\u001b[0m \u001b[0mplt\u001b[0m\u001b[1;33m.\u001b[0m\u001b[0mtitle\u001b[0m\u001b[1;33m(\u001b[0m\u001b[1;34m'model accuracy'\u001b[0m\u001b[1;33m)\u001b[0m\u001b[1;33m\u001b[0m\u001b[1;33m\u001b[0m\u001b[0m\n",
            "\u001b[1;31mNameError\u001b[0m: name 'history' is not defined"
          ]
        }
      ]
    },
    {
      "cell_type": "code",
      "metadata": {
        "id": "OWpJRP4dZji5"
      },
      "source": [
        "  # summarize history for loss\n",
        "plt.plot(history.history['loss'])\n",
        "plt.plot(history.history['val_loss'])\n",
        "plt.title('model loss')\n",
        "plt.ylabel('loss')\n",
        "plt.xlabel('epoch')\n",
        "plt.legend(['train', 'validation'], loc='upper right')\n",
        "plt.savefig('../logs/plots_full_data/loss_hyper.jpg')"
      ],
      "execution_count": null,
      "outputs": []
    }
  ]
}
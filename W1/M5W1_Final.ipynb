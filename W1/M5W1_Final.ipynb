{
  "nbformat": 4,
  "nbformat_minor": 0,
  "metadata": {
    "colab": {
      "name": "M5_Week01_AZNet.ipynb",
      "provenance": [],
      "collapsed_sections": [],
      "machine_shape": "hm"
    },
    "kernelspec": {
      "name": "python3",
      "display_name": "Python 3",
      "language": "python"
    },
    "accelerator": "GPU"
  },
  "cells": [
    {
      "source": [
        "from google.colab import drive\n",
        "drive.mount('/content/drive')"
      ],
      "cell_type": "markdown",
      "metadata": {
        "id": "EemsuZtybd_F",
        "colab": {
          "base_uri": "https://localhost:8080/"
        },
        "outputId": "f419d414-4ff5-45d4-fed5-b5927045ae96"
      }
    },
    {
      "cell_type": "code",
      "metadata": {
        "id": "RPRim1xa7S-0",
        "colab": {
          "base_uri": "https://localhost:8080/"
        },
        "outputId": "4416c6a0-6f43-4f5b-abcc-c94a201d5a77"
      },
      "source": [
        "# Load the TensorBoard notebook extension\n",
        "%load_ext tensorboard"
      ],
      "execution_count": 1,
      "outputs": []
    },
    {
      "cell_type": "code",
      "metadata": {
        "id": "-BrIMwNdj-i7"
      },
      "source": [
        "#%tensorflow_version 2.x\n",
        "#import tensorflow as tf\n",
        "#device_name = tf.test.gpu_device_name()\n",
        "#if device_name != '/device:GPU:0':\n",
        "#  raise SystemError('GPU device not found')\n",
        "#print('Found GPU at: {}'.format(device_name))\n",
        "\n",
        "#https://colab.research.google.com/notebooks/gpu.ipynb#scrollTo=sXnDmXR7RDr2"
      ],
      "execution_count": 2,
      "outputs": []
    },
    {
      "cell_type": "markdown",
      "metadata": {
        "id": "rC3j30GALmsE"
      },
      "source": [
        "# **MyAZNet**  \n"
      ]
    },
    {
      "cell_type": "markdown",
      "metadata": {
        "id": "YFlVtblJQidu"
      },
      "source": [
        "### **Libraries.** "
      ]
    },
    {
      "cell_type": "code",
      "metadata": {
        "id": "2SGuw17w45Ji"
      },
      "source": [
        "import os\n",
        "import pathlib\n",
        "import torch\n",
        "import tarfile\n",
        "import torchvision\n",
        "import glob\n",
        "import torch.nn as nn\n",
        "from torch.optim import Adam\n",
        "from PIL import Image\n",
        "import matplotlib.pyplot as plt\n",
        "import torch.nn.functional as F\n",
        "from torchvision import transforms\n",
        "from torchvision.utils import make_grid\n",
        "from torch.utils.data import random_split\n",
        "from torchvision.transforms import ToTensor\n",
        "from torchvision.datasets import ImageFolder\n",
        "from torch.utils.data import Dataset, DataLoader\n",
        "from torchvision.datasets.utils import download_url"
      ],
      "execution_count": 3,
      "outputs": []
    },
    {
      "cell_type": "code",
      "metadata": {
        "id": "5LWN6lsub1-W"
      },
      "source": [
        "#Load libraries\n",
        "import os\n",
        "import numpy as np\n",
        "import torch\n",
        "import glob\n",
        "import torch.nn as nn\n",
        "from torchvision.transforms import transforms\n",
        "from torch.utils.data import DataLoader\n",
        "from torch.optim import Adam\n",
        "from torch.autograd import Variable\n",
        "import torchvision\n",
        "import pathlib\n",
        "from torch.utils.tensorboard import SummaryWriter"
      ],
      "execution_count": 4,
      "outputs": []
    },
    {
      "cell_type": "code",
      "metadata": {
        "id": "-UnrVNzLW64o"
      },
      "source": [
        "#checking for device\n",
        "device=torch.device('cuda' if torch.cuda.is_available() else 'cpu')"
      ],
      "execution_count": 5,
      "outputs": []
    },
    {
      "cell_type": "code",
      "metadata": {
        "colab": {
          "base_uri": "https://localhost:8080/"
        },
        "id": "BFzk9mspW8J3",
        "outputId": "01e5027c-5f29-4eb9-d91a-4801f3795a4d"
      },
      "source": [
        "print(device)"
      ],
      "execution_count": 6,
      "outputs": [
        {
          "output_type": "stream",
          "name": "stdout",
          "text": [
            "cuda\n"
          ]
        }
      ]
    },
    {
      "cell_type": "code",
      "metadata": {
        "id": "NiFwz6Vl-JAu"
      },
      "source": [
        "#GPU\n",
        "\n"
      ],
      "execution_count": 7,
      "outputs": []
    },
    {
      "cell_type": "markdown",
      "metadata": {
        "id": "sUksYAqAQIyV"
      },
      "source": [
        "### **Parameters.** "
      ]
    },
    {
      "cell_type": "code",
      "metadata": {
        "id": "Ec72HIyjXWLY"
      },
      "source": [
        "#Transforms\n",
        "transformer=transforms.Compose([\n",
        "    transforms.Resize((128,128)),\n",
        "    transforms.RandomHorizontalFlip(),\n",
        "    transforms.ToTensor(),  #0-255 to 0-1, numpy to tensors\n",
        "    transforms.Normalize([0.5,0.5,0.5], # 0-1 to [-1,1] , formula (x-mean)/std\n",
        "                        [0.5,0.5,0.5])\n",
        "])"
      ],
      "execution_count": 8,
      "outputs": []
    },
    {
      "cell_type": "code",
      "metadata": {
        "id": "-1F2fErqXf_w"
      },
      "source": [
        "#Dataloader\n",
        "\n",
        "#Path for training and testing directory\n",
        "train_path='../MIT_split/train'\n",
        "test_path='../MIT_split/test'\n",
        "writer = SummaryWriter('../summaryWriter/')\n",
        "train_writer = SummaryWriter('summaryWriter/train')\n",
        "test_writer = SummaryWriter('summaryWriter/test')\n",
        "\n",
        "train_loader=DataLoader(\n",
        "    torchvision.datasets.ImageFolder(train_path,transform=transformer),\n",
        "    batch_size=128, shuffle=True\n",
        "    )\n",
        "\n",
        "test_loader=DataLoader(\n",
        "    torchvision.datasets.ImageFolder(test_path,transform=transformer),\n",
        "    batch_size=128, shuffle=True\n",
        "    )"
      ],
      "execution_count": 9,
      "outputs": []
    },
    {
      "cell_type": "code",
      "metadata": {
        "id": "grxmOzqjXz4t"
      },
      "source": [
        "#Image categories\n",
        "root=pathlib.Path(train_path)\n",
        "classes=sorted([j.name.split('/')[-1] for j in root.iterdir()])"
      ],
      "execution_count": 10,
      "outputs": []
    },
    {
      "cell_type": "code",
      "metadata": {
        "colab": {
          "base_uri": "https://localhost:8080/"
        },
        "id": "uCw0aOFzXz0T",
        "outputId": "11ffbfe0-4525-4e78-c3f5-1a0016c35342"
      },
      "source": [
        "print(classes)"
      ],
      "execution_count": 11,
      "outputs": [
        {
          "output_type": "stream",
          "name": "stdout",
          "text": [
            "['Opencountry', 'coast', 'forest', 'highway', 'inside_city', 'mountain', 'street', 'tallbuilding']\n"
          ]
        }
      ]
    },
    {
      "cell_type": "code",
      "metadata": {
        "id": "CdZHaCG4Xzrj"
      },
      "source": [
        "#CNN Network\n",
        "class MLP(torch.nn.Module):\n",
        "    def __init__(self,num_classes=8):\n",
        "        super(MLP,self).__init__()\n",
        "\n",
        "        self.num_classes = num_classes\n",
        "\n",
        "        #Conv1\n",
        "        self.conv1=torch.nn.Conv2d(3,64,3, padding=1)\n",
        "        #Shape= (128,3,224,224)\n",
        "        self.relu1=nn.ReLU()\n",
        "\n",
        "        #Batch Norm\n",
        "        self.bn1=torch.nn.BatchNorm2d(64)\n",
        "        #Shape= (128,12,224,224)\n",
        "        self.relu2=nn.ReLU()\n",
        "        #Shape= (128,12,224,224)\n",
        "\n",
        "        #MaxPool\n",
        "        self.pool1=torch.nn.MaxPool2d(2)\n",
        "        #Shape= (128,12,112,112)\n",
        "        \n",
        "        #Conv2\n",
        "        self.conv2=torch.nn.Conv2d(64,64,3)\n",
        "        #Shape= (32,112,112)\n",
        "        self.relu3=nn.ReLU()\n",
        "        #Shape= (32,112,112)\n",
        "\n",
        "        #Global Avg Pooling\n",
        "        self.pool2=torch.nn.AdaptiveAvgPool2d(2)\n",
        "\n",
        "        #Dense\n",
        "        self.fc=torch.nn.Linear(256*1*1,2048)\n",
        "        self.relu4=torch.nn.ReLU()\n",
        "\n",
        "        #Dropout\n",
        "        self.drop1 = torch.nn.Dropout(p=0.4)\n",
        "\n",
        "        #Dense\n",
        "        self.fc2=torch.nn.Linear(2048,8)\n",
        "        self.softmax = torch.nn.Softmax(dim=1)\n",
        "\n",
        "       \n",
        "    #Feed forwad function\n",
        "        \n",
        "    def forward(self,input):\n",
        "\n",
        "        output=self.conv1(input)\n",
        "        output=self.relu1(output)\n",
        "\n",
        "        output=self.bn1(output)\n",
        "        output=self.relu2(output)\n",
        "\n",
        "        output=self.pool1(output)\n",
        "\n",
        "        output=self.conv2(output)\n",
        "        output=self.relu3(output)\n",
        "\n",
        "        output=self.pool2(output)\n",
        "        # print(output.shape)\n",
        "\n",
        "        output=output.view(output.size(0),-1)\n",
        "\n",
        "        output=self.fc(output)\n",
        "        output=self.relu4(output)\n",
        "\n",
        "        output=self.drop1(output)\n",
        "\n",
        "        output=output.view(output.size(0),-1)\n",
        "\n",
        "        output=self.fc2(output)            \n",
        "\n",
        "        output=self.softmax(output)\n",
        "            \n",
        "        return output"
      ],
      "execution_count": 12,
      "outputs": []
    },
    {
      "cell_type": "code",
      "metadata": {
        "id": "hQFvRsP7XzeW"
      },
      "source": [
        "model=MLP(num_classes=8).to(device)"
      ],
      "execution_count": 13,
      "outputs": []
    },
    {
      "cell_type": "code",
      "metadata": {
        "colab": {
          "base_uri": "https://localhost:8080/"
        },
        "id": "10QYmYMQ4MeI",
        "outputId": "c1bb24ea-920b-40af-a088-0b66e3b20231"
      },
      "source": [
        "from torchsummary import summary\n",
        "summary (model, input_size=(3,224,224))"
      ],
      "execution_count": 14,
      "outputs": [
        {
          "output_type": "stream",
          "name": "stdout",
          "text": [
            "----------------------------------------------------------------\n        Layer (type)               Output Shape         Param #\n================================================================\n            Conv2d-1         [-1, 64, 224, 224]           1,792\n              ReLU-2         [-1, 64, 224, 224]               0\n       BatchNorm2d-3         [-1, 64, 224, 224]             128\n              ReLU-4         [-1, 64, 224, 224]               0\n         MaxPool2d-5         [-1, 64, 112, 112]               0\n            Conv2d-6         [-1, 64, 110, 110]          36,928\n              ReLU-7         [-1, 64, 110, 110]               0\n AdaptiveAvgPool2d-8             [-1, 64, 2, 2]               0\n            Linear-9                 [-1, 2048]         526,336\n             ReLU-10                 [-1, 2048]               0\n          Dropout-11                 [-1, 2048]               0\n           Linear-12                    [-1, 8]          16,392\n          Softmax-13                    [-1, 8]               0\n================================================================\nTotal params: 581,576\nTrainable params: 581,576\nNon-trainable params: 0\n----------------------------------------------------------------\nInput size (MB): 0.57\nForward/backward pass size (MB): 115.99\nParams size (MB): 2.22\nEstimated Total Size (MB): 118.78\n----------------------------------------------------------------\n"
          ]
        }
      ]
    },
    {
      "cell_type": "code",
      "metadata": {
        "id": "AP72LKEpXzS1"
      },
      "source": [
        "#Optmizer and loss function\n",
        "optimizer=Adam(model.parameters(),lr=0.001)\n",
        "loss_function=nn.CrossEntropyLoss()"
      ],
      "execution_count": 15,
      "outputs": []
    },
    {
      "cell_type": "code",
      "metadata": {
        "id": "5Zfijen9XzHb"
      },
      "source": [
        "num_epochs=100"
      ],
      "execution_count": 16,
      "outputs": []
    },
    {
      "cell_type": "code",
      "metadata": {
        "id": "Dvq5K4TpXy6E"
      },
      "source": [
        "#calculating the size of training and testing images\n",
        "train_count=len(glob.glob(train_path+'/**/*.jpg'))\n",
        "test_count=len(glob.glob(test_path+'/**/*.jpg'))"
      ],
      "execution_count": 17,
      "outputs": []
    },
    {
      "cell_type": "code",
      "metadata": {
        "colab": {
          "base_uri": "https://localhost:8080/"
        },
        "id": "ZbempU6FYjPU",
        "outputId": "d7e4373e-3f43-45e7-bc78-ccad37f61fde"
      },
      "source": [
        "print(train_count,test_count)"
      ],
      "execution_count": 18,
      "outputs": [
        {
          "output_type": "stream",
          "name": "stdout",
          "text": [
            "1881 807\n"
          ]
        }
      ]
    },
    {
      "cell_type": "code",
      "metadata": {
        "id": "UsZmoN3yYjLM",
        "colab": {
          "base_uri": "https://localhost:8080/"
        },
        "outputId": "72da7f9d-33f5-476c-e8c8-049d2b720ac7"
      },
      "source": [
        "\n",
        "#Model training and saving best model\n",
        "#source: https://github.com/gaurav67890/Pytorch_Tutorials/blob/master/cnn-scratch-training.ipynb\n",
        "\n",
        "#Model training and saving best model\n",
        "import tensorflow as tf\n",
        "import tensorboard as tb\n",
        "tf.io.gfile = tb.compat.tensorflow_stub.io.gfile\n",
        "\n",
        "best_accuracy=0.0\n",
        "\n",
        "for epoch in range(num_epochs):\n",
        "    \n",
        "    #Evaluation and training on training dataset\n",
        "    model.train()\n",
        "    train_accuracy=0.0\n",
        "    train_loss=0.0\n",
        "    \n",
        "    for i, data in enumerate(train_loader,0):\n",
        "        if torch.cuda.is_available():\n",
        "            train_images, train_labels = data\n",
        "            train_images=Variable(train_images.cuda())\n",
        "            train_labels=Variable(train_labels.cuda())\n",
        "            \n",
        "        optimizer.zero_grad()\n",
        "        \n",
        "        train_outputs=model(train_images)\n",
        "        loss=loss_function(train_outputs,train_labels)\n",
        "        loss.backward()\n",
        "        train_loss += loss.item()*len(train_images)\n",
        "        optimizer.step()\n",
        "        \n",
        "        # train_loss+= loss.cpu().data*train_images.size(0)\n",
        "        _,prediction=torch.max(train_outputs.data,1)\n",
        "        \n",
        "        train_accuracy+=int(torch.sum(prediction==train_labels.data))\n",
        "\n",
        "    features = train_images.view(-1, 128 * 128)\n",
        "    \n",
        "    train_accuracy=train_accuracy/train_count\n",
        "    train_loss=train_loss/train_count    \n",
        "\n",
        "    # print('Epoch: '+str(epoch)+' Train Loss: '+str(train_loss)+' Train Accuracy: '+str(train_accuracy))\n",
        "  \n",
        "    # Evaluation on testing dataset\n",
        "    model.eval()\n",
        "    \n",
        "    test_accuracy=0.0\n",
        "    val_loss=0.0\n",
        "    for i, (test_images,test_labels) in enumerate(test_loader):\n",
        "       if torch.cuda.is_available():\n",
        "           test_images=Variable(test_images.cuda())\n",
        "           test_labels=Variable(test_labels.cuda())\n",
        "            \n",
        "       test_outputs=model(test_images)\n",
        "       _,prediction=torch.max(test_outputs.data,1)\n",
        "       \n",
        "       temp_test_loss = loss_function(test_outputs, test_labels)\n",
        "       temp_test_loss.backward()\n",
        "       val_loss += temp_test_loss.item()*len(test_images)\n",
        "\n",
        "       test_accuracy+=int(torch.sum(prediction==test_labels.data))\n",
        "    \n",
        "    test_accuracy=test_accuracy/test_count\n",
        "    test_loss=val_loss/test_count\n",
        "        \n",
        "    print('Epoch: '+str(epoch+1)+' Train Loss: '+str(train_loss)+' Train Accuracy: '+str(train_accuracy)+' Test Accuracy: '+str(test_accuracy))\n",
        "    \n",
        "    test_writer.add_scalar('Loss/test', test_loss, epoch+1)\n",
        "    test_writer.add_scalar('Acc/test', test_accuracy, epoch+1)\n",
        "    train_writer.add_scalar('Loss/train', train_loss, epoch+1)\n",
        "    train_writer.add_scalar('Acc/train', train_accuracy, epoch+1)\n",
        "    \n",
        "    # Save the best model\n",
        "    if test_accuracy>best_accuracy:\n",
        "       torch.save(model.state_dict(),'best_checkpoint.model')\n",
        "       print(\"new checkpoint\")\n",
        "       best_accuracy=test_accuracy\n",
        "writer.add_graph(model, train_images)\n"
      ],
      "execution_count": 19,
      "outputs": [
        {
          "output_type": "stream",
          "name": "stdout",
          "text": [
            "Epoch: 1 Train Loss: 1.9759161549004896 Train Accuracy: 0.3056884635832004 Test Accuracy: 0.3358116480793061\n",
            "new checkpoint\n",
            "Epoch: 2 Train Loss: 1.8351411253514915 Train Accuracy: 0.4354066985645933 Test Accuracy: 0.4200743494423792\n",
            "new checkpoint\n",
            "Epoch: 3 Train Loss: 1.8083308137268035 Train Accuracy: 0.46624136097820307 Test Accuracy: 0.4745972738537794\n",
            "new checkpoint\n",
            "Epoch: 4 Train Loss: 1.7715213485755292 Train Accuracy: 0.49760765550239233 Test Accuracy: 0.5006195786864932\n",
            "new checkpoint\n",
            "Epoch: 5 Train Loss: 1.7573434454148782 Train Accuracy: 0.52046783625731 Test Accuracy: 0.5043370508054523\n",
            "new checkpoint\n",
            "Epoch: 6 Train Loss: 1.7359504744069871 Train Accuracy: 0.5364167995746943 Test Accuracy: 0.5278810408921933\n",
            "new checkpoint\n",
            "Epoch: 7 Train Loss: 1.7120748540304367 Train Accuracy: 0.557150451887294 Test Accuracy: 0.5526641883519207\n",
            "new checkpoint\n",
            "Epoch: 8 Train Loss: 1.700521661397436 Train Accuracy: 0.5794790005316321 Test Accuracy: 0.5811648079306072\n",
            "new checkpoint\n",
            "Epoch: 9 Train Loss: 1.6767506823141736 Train Accuracy: 0.5991493886230729 Test Accuracy: 0.5824039653035935\n",
            "new checkpoint\n",
            "Epoch: 10 Train Loss: 1.652860550599045 Train Accuracy: 0.6294524189261032 Test Accuracy: 0.6171003717472119\n",
            "new checkpoint\n",
            "Epoch: 11 Train Loss: 1.643346404915221 Train Accuracy: 0.6310473152578415 Test Accuracy: 0.6084262701363073\n",
            "Epoch: 12 Train Loss: 1.630218172314191 Train Accuracy: 0.6454013822434875 Test Accuracy: 0.6047087980173482\n",
            "Epoch: 13 Train Loss: 1.6149443993854877 Train Accuracy: 0.6597554492291334 Test Accuracy: 0.6604708798017348\n",
            "new checkpoint\n",
            "Epoch: 14 Train Loss: 1.5794006290111309 Train Accuracy: 0.695906432748538 Test Accuracy: 0.7075588599752168\n",
            "new checkpoint\n",
            "Epoch: 15 Train Loss: 1.5543084953263488 Train Accuracy: 0.7278043593833068 Test Accuracy: 0.7001239157372986\n",
            "Epoch: 16 Train Loss: 1.5442726530970443 Train Accuracy: 0.7331206804891015 Test Accuracy: 0.6988847583643123\n",
            "Epoch: 17 Train Loss: 1.5372128264819098 Train Accuracy: 0.7421584263689527 Test Accuracy: 0.7422552664188352\n",
            "new checkpoint\n",
            "Epoch: 18 Train Loss: 1.5263541772731881 Train Accuracy: 0.7506645401382244 Test Accuracy: 0.7174721189591078\n",
            "Epoch: 19 Train Loss: 1.5370597957233874 Train Accuracy: 0.7405635300372142 Test Accuracy: 0.7298636926889716\n",
            "Epoch: 20 Train Loss: 1.515032350921935 Train Accuracy: 0.7612971823498139 Test Accuracy: 0.7571251548946716\n",
            "new checkpoint\n",
            "Epoch: 21 Train Loss: 1.5084981242118523 Train Accuracy: 0.7692716640085061 Test Accuracy: 0.7732342007434945\n",
            "new checkpoint\n",
            "Epoch: 22 Train Loss: 1.5068653859336727 Train Accuracy: 0.7698032961190856 Test Accuracy: 0.7707558859975217\n",
            "Epoch: 23 Train Loss: 1.5069060157043765 Train Accuracy: 0.7729930887825625 Test Accuracy: 0.781908302354399\n",
            "new checkpoint\n",
            "Epoch: 24 Train Loss: 1.491992188412607 Train Accuracy: 0.7841573631047315 Test Accuracy: 0.7843866171003717\n",
            "new checkpoint\n",
            "Epoch: 25 Train Loss: 1.4894675588050084 Train Accuracy: 0.786815523657629 Test Accuracy: 0.7955390334572491\n",
            "new checkpoint\n",
            "Epoch: 26 Train Loss: 1.473429411031793 Train Accuracy: 0.8048910154173312 Test Accuracy: 0.8029739776951673\n",
            "new checkpoint\n",
            "Epoch: 27 Train Loss: 1.4724868369317954 Train Accuracy: 0.8059542796384902 Test Accuracy: 0.8004956629491945\n",
            "Epoch: 28 Train Loss: 1.472829246508321 Train Accuracy: 0.8038277511961722 Test Accuracy: 0.7794299876084263\n",
            "Epoch: 29 Train Loss: 1.4776957930560317 Train Accuracy: 0.8059542796384902 Test Accuracy: 0.7757125154894672\n",
            "Epoch: 30 Train Loss: 1.478251286544171 Train Accuracy: 0.7985114300903775 Test Accuracy: 0.7955390334572491\n",
            "Epoch: 31 Train Loss: 1.4537517379915885 Train Accuracy: 0.8240297713981924 Test Accuracy: 0.8017348203221809\n",
            "Epoch: 32 Train Loss: 1.4487663491617677 Train Accuracy: 0.8272195640616693 Test Accuracy: 0.8079306071871127\n",
            "new checkpoint\n",
            "Epoch: 33 Train Loss: 1.447384333496459 Train Accuracy: 0.8320042530568846 Test Accuracy: 0.815365551425031\n",
            "new checkpoint\n",
            "Epoch: 34 Train Loss: 1.4550641160389008 Train Accuracy: 0.8197767145135566 Test Accuracy: 0.7843866171003717\n",
            "Epoch: 35 Train Loss: 1.4458558639270838 Train Accuracy: 0.8314726209463051 Test Accuracy: 0.8203221809169765\n",
            "new checkpoint\n",
            "Epoch: 36 Train Loss: 1.4374648141201858 Train Accuracy: 0.8405103668261563 Test Accuracy: 0.8215613382899628\n",
            "new checkpoint\n",
            "Epoch: 37 Train Loss: 1.429817644286067 Train Accuracy: 0.8495481127060075 Test Accuracy: 0.8104089219330854\n",
            "Epoch: 38 Train Loss: 1.4327652316851416 Train Accuracy: 0.8442317916002127 Test Accuracy: 0.7868649318463445\n",
            "Epoch: 39 Train Loss: 1.4362686548633565 Train Accuracy: 0.8437001594896332 Test Accuracy: 0.8339529120198265\n",
            "new checkpoint\n",
            "Epoch: 40 Train Loss: 1.4271861215274046 Train Accuracy: 0.8500797448165869 Test Accuracy: 0.8252788104089219\n",
            "Epoch: 41 Train Loss: 1.4259388299142979 Train Accuracy: 0.8495481127060075 Test Accuracy: 0.8190830235439901\n",
            "Epoch: 42 Train Loss: 1.4194100834726338 Train Accuracy: 0.8585858585858586 Test Accuracy: 0.828996282527881\n",
            "Epoch: 43 Train Loss: 1.4137988998685853 Train Accuracy: 0.8644338118022329 Test Accuracy: 0.8141263940520446\n",
            "Epoch: 44 Train Loss: 1.4091062735902826 Train Accuracy: 0.8713450292397661 Test Accuracy: 0.8190830235439901\n",
            "Epoch: 45 Train Loss: 1.4269667401204775 Train Accuracy: 0.8495481127060075 Test Accuracy: 0.8042131350681536\n",
            "Epoch: 46 Train Loss: 1.4157448727548407 Train Accuracy: 0.8617756512493354 Test Accuracy: 0.8203221809169765\n",
            "Epoch: 47 Train Loss: 1.4206219200502361 Train Accuracy: 0.860180754917597 Test Accuracy: 0.8401486988847584\n",
            "new checkpoint\n",
            "Epoch: 48 Train Loss: 1.4126083000995326 Train Accuracy: 0.8639021796916534 Test Accuracy: 0.8351920693928129\n",
            "Epoch: 49 Train Loss: 1.4104806595441828 Train Accuracy: 0.8644338118022329 Test Accuracy: 0.838909541511772\n",
            "Epoch: 50 Train Loss: 1.4074848575962153 Train Accuracy: 0.8718766613503456 Test Accuracy: 0.8265179677819083\n",
            "Epoch: 51 Train Loss: 1.4052656753972006 Train Accuracy: 0.8713450292397661 Test Accuracy: 0.8252788104089219\n",
            "Epoch: 52 Train Loss: 1.4034987903541227 Train Accuracy: 0.8761297182349814 Test Accuracy: 0.8314745972738538\n",
            "Epoch: 53 Train Loss: 1.4054216182593144 Train Accuracy: 0.8718766613503456 Test Accuracy: 0.8141263940520446\n",
            "Epoch: 54 Train Loss: 1.4074172391212094 Train Accuracy: 0.8681552365762892 Test Accuracy: 0.8351920693928129\n",
            "Epoch: 55 Train Loss: 1.4072157316294076 Train Accuracy: 0.8697501329080276 Test Accuracy: 0.8364312267657993\n",
            "Epoch: 56 Train Loss: 1.4013262281133925 Train Accuracy: 0.8761297182349814 Test Accuracy: 0.8215613382899628\n",
            "Epoch: 57 Train Loss: 1.3936947324946483 Train Accuracy: 0.8835725677830941 Test Accuracy: 0.8451053283767038\n",
            "new checkpoint\n",
            "Epoch: 58 Train Loss: 1.3970778951741227 Train Accuracy: 0.8777246145667198 Test Accuracy: 0.8426270136307311\n",
            "Epoch: 59 Train Loss: 1.3818778378224512 Train Accuracy: 0.8973950026581605 Test Accuracy: 0.8562577447335812\n",
            "new checkpoint\n",
            "Epoch: 60 Train Loss: 1.3833778720153005 Train Accuracy: 0.8926103136629452 Test Accuracy: 0.838909541511772\n",
            "Epoch: 61 Train Loss: 1.3873376826033321 Train Accuracy: 0.8888888888888888 Test Accuracy: 0.8525402726146221\n",
            "Epoch: 62 Train Loss: 1.3807565571462013 Train Accuracy: 0.8995215311004785 Test Accuracy: 0.8351920693928129\n",
            "Epoch: 63 Train Loss: 1.3793552789454888 Train Accuracy: 0.9005847953216374 Test Accuracy: 0.8426270136307311\n",
            "Epoch: 64 Train Loss: 1.392681727062065 Train Accuracy: 0.8825093035619351 Test Accuracy: 0.8426270136307311\n",
            "Epoch: 65 Train Loss: 1.384150713381141 Train Accuracy: 0.8931419457735247 Test Accuracy: 0.8413878562577447\n",
            "Epoch: 66 Train Loss: 1.3854191426835372 Train Accuracy: 0.8915470494417863 Test Accuracy: 0.8438661710037175\n",
            "Epoch: 67 Train Loss: 1.3841110718877692 Train Accuracy: 0.8936735778841042 Test Accuracy: 0.80545229244114\n",
            "Epoch: 68 Train Loss: 1.3798048548214237 Train Accuracy: 0.8973950026581605 Test Accuracy: 0.8339529120198265\n",
            "Epoch: 69 Train Loss: 1.3730535467909346 Train Accuracy: 0.9059011164274322 Test Accuracy: 0.8228004956629492\n",
            "Epoch: 70 Train Loss: 1.3686009277250462 Train Accuracy: 0.9085592769803296 Test Accuracy: 0.8426270136307311\n",
            "Epoch: 71 Train Loss: 1.373317774910042 Train Accuracy: 0.9032429558745348 Test Accuracy: 0.8351920693928129\n",
            "Epoch: 72 Train Loss: 1.3792631645141795 Train Accuracy: 0.8947368421052632 Test Accuracy: 0.8488228004956629\n",
            "Epoch: 73 Train Loss: 1.3797242727639636 Train Accuracy: 0.8963317384370016 Test Accuracy: 0.8426270136307311\n",
            "Epoch: 74 Train Loss: 1.3717654348370372 Train Accuracy: 0.9053694843168527 Test Accuracy: 0.8574969021065675\n",
            "new checkpoint\n",
            "Epoch: 75 Train Loss: 1.3723978593842519 Train Accuracy: 0.9059011164274322 Test Accuracy: 0.8488228004956629\n",
            "Epoch: 76 Train Loss: 1.3679215381400247 Train Accuracy: 0.911217437533227 Test Accuracy: 0.8587360594795539\n",
            "new checkpoint\n",
            "Epoch: 77 Train Loss: 1.3679233504888038 Train Accuracy: 0.9085592769803296 Test Accuracy: 0.8451053283767038\n",
            "Epoch: 78 Train Loss: 1.3675283421106252 Train Accuracy: 0.9085592769803296 Test Accuracy: 0.8240396530359355\n",
            "Epoch: 79 Train Loss: 1.3666423395680087 Train Accuracy: 0.9122807017543859 Test Accuracy: 0.8587360594795539\n",
            "Epoch: 80 Train Loss: 1.3629735523180275 Train Accuracy: 0.9144072301967039 Test Accuracy: 0.8587360594795539\n",
            "Epoch: 81 Train Loss: 1.3660855368056999 Train Accuracy: 0.9096225412014886 Test Accuracy: 0.8537794299876085\n",
            "Epoch: 82 Train Loss: 1.3726725869201588 Train Accuracy: 0.9032429558745348 Test Accuracy: 0.8525402726146221\n",
            "Epoch: 83 Train Loss: 1.3724854106538034 Train Accuracy: 0.9037745879851143 Test Accuracy: 0.8587360594795539\n",
            "Epoch: 84 Train Loss: 1.3635659688714334 Train Accuracy: 0.9122807017543859 Test Accuracy: 0.8426270136307311\n",
            "Epoch: 85 Train Loss: 1.3637553552944948 Train Accuracy: 0.9133439659755449 Test Accuracy: 0.8438661710037175\n",
            "Epoch: 86 Train Loss: 1.3633044594973087 Train Accuracy: 0.9154704944178629 Test Accuracy: 0.8240396530359355\n",
            "Epoch: 87 Train Loss: 1.384254374699286 Train Accuracy: 0.8899521531100478 Test Accuracy: 0.8488228004956629\n",
            "Epoch: 88 Train Loss: 1.3928213219640104 Train Accuracy: 0.8841041998936736 Test Accuracy: 0.8228004956629492\n",
            "Epoch: 89 Train Loss: 1.3751736168909554 Train Accuracy: 0.898989898989899 Test Accuracy: 0.8451053283767038\n",
            "Epoch: 90 Train Loss: 1.35880056433954 Train Accuracy: 0.9191919191919192 Test Accuracy: 0.8550185873605948\n",
            "Epoch: 91 Train Loss: 1.36052444417194 Train Accuracy: 0.9165337586390218 Test Accuracy: 0.8327137546468402\n",
            "Epoch: 92 Train Loss: 1.3630259031947782 Train Accuracy: 0.9154704944178629 Test Accuracy: 0.8587360594795539\n",
            "Epoch: 93 Train Loss: 1.3566519719118264 Train Accuracy: 0.9175970228601807 Test Accuracy: 0.8587360594795539\n",
            "Epoch: 94 Train Loss: 1.3596020295606022 Train Accuracy: 0.9213184476342371 Test Accuracy: 0.8451053283767038\n",
            "Epoch: 95 Train Loss: 1.3576286411361451 Train Accuracy: 0.9181286549707602 Test Accuracy: 0.862453531598513\n",
            "new checkpoint\n",
            "Epoch: 96 Train Loss: 1.356795640336523 Train Accuracy: 0.9191919191919192 Test Accuracy: 0.8475836431226765\n",
            "Epoch: 97 Train Loss: 1.3586028261047802 Train Accuracy: 0.9154704944178629 Test Accuracy: 0.8587360594795539\n",
            "Epoch: 98 Train Loss: 1.3545947990665912 Train Accuracy: 0.9229133439659756 Test Accuracy: 0.8525402726146221\n",
            "Epoch: 99 Train Loss: 1.3609476002653123 Train Accuracy: 0.9138755980861244 Test Accuracy: 0.8525402726146221\n",
            "Epoch: 100 Train Loss: 1.3737980690742666 Train Accuracy: 0.8995215311004785 Test Accuracy: 0.8599752168525403\n"
          ]
        }
      ]
    },
    {
      "cell_type": "code",
      "metadata": {
        "id": "f8yojcHMYjER"
      },
      "source": [],
      "execution_count": 35,
      "outputs": [
        {
          "output_type": "error",
          "ename": "RuntimeError",
          "evalue": "shape '[128, 8]' is invalid for input of size 4374528",
          "traceback": [
            "\u001b[1;31m---------------------------------------------------------------------------\u001b[0m",
            "\u001b[1;31mRuntimeError\u001b[0m                              Traceback (most recent call last)",
            "\u001b[1;32m<ipython-input-35-79ffab200911>\u001b[0m in \u001b[0;36m<module>\u001b[1;34m\u001b[0m\n\u001b[0;32m      2\u001b[0m \u001b[0mlabel\u001b[0m \u001b[1;33m=\u001b[0m \u001b[0mtrain_labels\u001b[0m\u001b[1;33m[\u001b[0m\u001b[1;33m:\u001b[0m\u001b[1;36m128\u001b[0m\u001b[1;33m]\u001b[0m\u001b[1;33m\u001b[0m\u001b[1;33m\u001b[0m\u001b[0m\n\u001b[0;32m      3\u001b[0m \u001b[1;33m\u001b[0m\u001b[0m\n\u001b[1;32m----> 4\u001b[1;33m \u001b[0mfeatures\u001b[0m \u001b[1;33m=\u001b[0m \u001b[0mimages\u001b[0m\u001b[1;33m.\u001b[0m\u001b[0mview\u001b[0m\u001b[1;33m(\u001b[0m\u001b[1;36m128\u001b[0m\u001b[1;33m,\u001b[0m \u001b[1;36m8\u001b[0m\u001b[1;33m)\u001b[0m\u001b[1;33m\u001b[0m\u001b[1;33m\u001b[0m\u001b[0m\n\u001b[0m\u001b[0;32m      5\u001b[0m \u001b[1;33m\u001b[0m\u001b[0m\n\u001b[0;32m      6\u001b[0m \u001b[0mwriter\u001b[0m\u001b[1;33m.\u001b[0m\u001b[0madd_embedding\u001b[0m\u001b[1;33m(\u001b[0m\u001b[0mfeatures\u001b[0m\u001b[1;33m,\u001b[0m \u001b[0mmetadata\u001b[0m\u001b[1;33m=\u001b[0m\u001b[0mlabel\u001b[0m\u001b[1;33m,\u001b[0m \u001b[0mlabel_img\u001b[0m\u001b[1;33m=\u001b[0m\u001b[0mimages\u001b[0m\u001b[1;33m.\u001b[0m\u001b[0munsqueeze\u001b[0m\u001b[1;33m(\u001b[0m\u001b[1;36m1\u001b[0m\u001b[1;33m)\u001b[0m\u001b[1;33m)\u001b[0m\u001b[1;33m\u001b[0m\u001b[1;33m\u001b[0m\u001b[0m\n",
            "\u001b[1;31mRuntimeError\u001b[0m: shape '[128, 8]' is invalid for input of size 4374528"
          ]
        }
      ]
    },
    {
      "cell_type": "code",
      "metadata": {
        "id": "xP986GgXYi6t"
      },
      "source": [],
      "execution_count": null,
      "outputs": []
    },
    {
      "cell_type": "code",
      "metadata": {
        "id": "CRYIB8IQZPLV"
      },
      "source": [],
      "execution_count": null,
      "outputs": []
    },
    {
      "cell_type": "code",
      "metadata": {
        "id": "7m9SZWFLZO94"
      },
      "source": [],
      "execution_count": null,
      "outputs": []
    },
    {
      "cell_type": "code",
      "metadata": {
        "id": "fzTinpHLZO3R"
      },
      "source": [],
      "execution_count": null,
      "outputs": []
    },
    {
      "cell_type": "code",
      "metadata": {
        "id": "hhk56q4CZOwC"
      },
      "source": [],
      "execution_count": null,
      "outputs": []
    },
    {
      "cell_type": "code",
      "metadata": {
        "id": "mzwmkIPwZOkO"
      },
      "source": [],
      "execution_count": null,
      "outputs": []
    },
    {
      "cell_type": "code",
      "metadata": {
        "id": "eCwsTtoMYisP"
      },
      "source": [],
      "execution_count": null,
      "outputs": []
    },
    {
      "cell_type": "code",
      "metadata": {
        "id": "8nKlgebADKMs"
      },
      "source": [
        "#"
      ],
      "execution_count": 20,
      "outputs": []
    },
    {
      "cell_type": "markdown",
      "metadata": {
        "id": "fkL9z2drEx3Y"
      },
      "source": [
        "# **Hyperparametrization**"
      ]
    },
    {
      "cell_type": "code",
      "metadata": {
        "id": "nPy9mn_PZgIC"
      },
      "source": [
        "# list all data in history\n",
        "# summarize history for accuracy\n",
        "plt.plot(history.history['accuracy'])\n",
        "plt.plot(history.history['val_accuracy'])\n",
        "plt.title('model accuracy')\n",
        "plt.ylabel('accuracy')\n",
        "plt.xlabel('epoch')\n",
        "plt.legend(['train', 'validation'], loc='lower right')\n",
        "plt.savefig('../logs/plots_full_data/accuracy_hyper.jpg')\n",
        "#plt.close()"
      ],
      "execution_count": 21,
      "outputs": [
        {
          "output_type": "error",
          "ename": "NameError",
          "evalue": "name 'history' is not defined",
          "traceback": [
            "\u001b[1;31m---------------------------------------------------------------------------\u001b[0m",
            "\u001b[1;31mNameError\u001b[0m                                 Traceback (most recent call last)",
            "\u001b[1;32m<ipython-input-21-b1bbf43b3833>\u001b[0m in \u001b[0;36m<module>\u001b[1;34m\u001b[0m\n\u001b[0;32m      1\u001b[0m \u001b[1;31m# list all data in history\u001b[0m\u001b[1;33m\u001b[0m\u001b[1;33m\u001b[0m\u001b[1;33m\u001b[0m\u001b[0m\n\u001b[0;32m      2\u001b[0m \u001b[1;31m# summarize history for accuracy\u001b[0m\u001b[1;33m\u001b[0m\u001b[1;33m\u001b[0m\u001b[1;33m\u001b[0m\u001b[0m\n\u001b[1;32m----> 3\u001b[1;33m \u001b[0mplt\u001b[0m\u001b[1;33m.\u001b[0m\u001b[0mplot\u001b[0m\u001b[1;33m(\u001b[0m\u001b[0mhistory\u001b[0m\u001b[1;33m.\u001b[0m\u001b[0mhistory\u001b[0m\u001b[1;33m[\u001b[0m\u001b[1;34m'accuracy'\u001b[0m\u001b[1;33m]\u001b[0m\u001b[1;33m)\u001b[0m\u001b[1;33m\u001b[0m\u001b[1;33m\u001b[0m\u001b[0m\n\u001b[0m\u001b[0;32m      4\u001b[0m \u001b[0mplt\u001b[0m\u001b[1;33m.\u001b[0m\u001b[0mplot\u001b[0m\u001b[1;33m(\u001b[0m\u001b[0mhistory\u001b[0m\u001b[1;33m.\u001b[0m\u001b[0mhistory\u001b[0m\u001b[1;33m[\u001b[0m\u001b[1;34m'val_accuracy'\u001b[0m\u001b[1;33m]\u001b[0m\u001b[1;33m)\u001b[0m\u001b[1;33m\u001b[0m\u001b[1;33m\u001b[0m\u001b[0m\n\u001b[0;32m      5\u001b[0m \u001b[0mplt\u001b[0m\u001b[1;33m.\u001b[0m\u001b[0mtitle\u001b[0m\u001b[1;33m(\u001b[0m\u001b[1;34m'model accuracy'\u001b[0m\u001b[1;33m)\u001b[0m\u001b[1;33m\u001b[0m\u001b[1;33m\u001b[0m\u001b[0m\n",
            "\u001b[1;31mNameError\u001b[0m: name 'history' is not defined"
          ]
        }
      ]
    },
    {
      "cell_type": "code",
      "metadata": {
        "id": "OWpJRP4dZji5"
      },
      "source": [
        "  # summarize history for loss\n",
        "plt.plot(history.history['loss'])\n",
        "plt.plot(history.history['val_loss'])\n",
        "plt.title('model loss')\n",
        "plt.ylabel('loss')\n",
        "plt.xlabel('epoch')\n",
        "plt.legend(['train', 'validation'], loc='upper right')\n",
        "plt.savefig('../logs/plots_full_data/loss_hyper.jpg')"
      ],
      "execution_count": null,
      "outputs": []
    }
  ]
}